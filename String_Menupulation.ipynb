{
  "nbformat": 4,
  "nbformat_minor": 0,
  "metadata": {
    "colab": {
      "provenance": [],
      "collapsed_sections": [
        "DYFQhif_YkYH",
        "k2WUO_ptYde1",
        "4mZNcmbGZH72",
        "MPMR8P1hcSNZ",
        "NDTP4BqshALt",
        "3Y_oLkLi9gjJ",
        "h-bopz-LEHop",
        "QaWJ85HiGUj8",
        "jGDe9_PcHbVb",
        "BXWlD3whLsVQ",
        "TjG2vdfjmcvC",
        "KnVPexobtVz1",
        "IiMcdDv80ECL"
      ]
    },
    "kernelspec": {
      "name": "python3",
      "display_name": "Python 3"
    },
    "language_info": {
      "name": "python"
    }
  },
  "cells": [
    {
      "cell_type": "markdown",
      "source": [
        "\n",
        "# How do you reverse a string in Python?"
      ],
      "metadata": {
        "id": "DYFQhif_YkYH"
      }
    },
    {
      "cell_type": "code",
      "execution_count": null,
      "metadata": {
        "colab": {
          "base_uri": "https://localhost:8080/"
        },
        "id": "skeT_AbCTA_b",
        "outputId": "2851eb13-dff6-4a97-eaa0-7df2f0bb26bf"
      },
      "outputs": [
        {
          "output_type": "stream",
          "name": "stdout",
          "text": [
            "shivansh\n",
            "\n",
            "hsnavihs\n"
          ]
        }
      ],
      "source": [
        "# How do you reverse a string in Python?\n",
        "\n",
        "a=\"shivansh\"\n",
        "\n",
        "\n",
        "print(a,end=\"\\n\\n\")\n",
        "\n",
        "print(a[::-1])"
      ]
    },
    {
      "cell_type": "code",
      "source": [
        "def reverse(s):\n",
        "  r=s[::-1]\n",
        "  return r\n",
        "\n",
        "\n",
        "print(reverse(\"shivansh\"))"
      ],
      "metadata": {
        "colab": {
          "base_uri": "https://localhost:8080/"
        },
        "id": "mWoTN4YjV_dN",
        "outputId": "60b89ece-718b-4082-af4a-dffa23f3f63b"
      },
      "execution_count": null,
      "outputs": [
        {
          "output_type": "stream",
          "name": "stdout",
          "text": [
            "hsnavihs\n"
          ]
        }
      ]
    },
    {
      "cell_type": "code",
      "source": [
        "reverse(\"devops\")"
      ],
      "metadata": {
        "colab": {
          "base_uri": "https://localhost:8080/",
          "height": 39
        },
        "id": "Al3YpSn8WK3d",
        "outputId": "51e4158b-9a05-4e3e-e478-1912be6f7142"
      },
      "execution_count": null,
      "outputs": [
        {
          "output_type": "execute_result",
          "data": {
            "text/plain": [
              "'spoved'"
            ],
            "application/vnd.google.colaboratory.intrinsic+json": {
              "type": "string"
            }
          },
          "metadata": {},
          "execution_count": 12
        }
      ]
    },
    {
      "cell_type": "markdown",
      "source": [
        "# How do you check if a string is a palindrome?\n",
        "\n",
        "\"madam\" → Palindrome ✅\n",
        "\"racecar\" → Palindrome ✅\n",
        "\"devops\" → Not a palindrome ❌"
      ],
      "metadata": {
        "id": "k2WUO_ptYde1"
      }
    },
    {
      "cell_type": "code",
      "source": [
        "def palindrome(s):\n",
        "  return s == s[::-1]\n",
        "\n",
        "\n",
        "palindrome(\"madam\")"
      ],
      "metadata": {
        "colab": {
          "base_uri": "https://localhost:8080/"
        },
        "id": "P5ZgteW3X7dp",
        "outputId": "5922d071-6ca3-4f75-b827-979e88cb1802"
      },
      "execution_count": null,
      "outputs": [
        {
          "output_type": "execute_result",
          "data": {
            "text/plain": [
              "True"
            ]
          },
          "metadata": {},
          "execution_count": 17
        }
      ]
    },
    {
      "cell_type": "code",
      "source": [],
      "metadata": {
        "id": "72jgYnCjYF08"
      },
      "execution_count": null,
      "outputs": []
    },
    {
      "cell_type": "markdown",
      "source": [
        "# How do you count the occurrences of a specific character in a string?"
      ],
      "metadata": {
        "id": "4mZNcmbGZH72"
      }
    },
    {
      "cell_type": "code",
      "source": [
        "\"devops tool\".count(\"o\")"
      ],
      "metadata": {
        "colab": {
          "base_uri": "https://localhost:8080/"
        },
        "id": "ZniEsa6oZIeb",
        "outputId": "d7d97484-b4e6-41eb-ef63-f9d8af4e5b7f"
      },
      "execution_count": null,
      "outputs": [
        {
          "output_type": "execute_result",
          "data": {
            "text/plain": [
              "3"
            ]
          },
          "metadata": {},
          "execution_count": 19
        }
      ]
    },
    {
      "cell_type": "code",
      "source": [
        "s=\"devops tool\"\n",
        "s.count(\"o\")"
      ],
      "metadata": {
        "colab": {
          "base_uri": "https://localhost:8080/"
        },
        "id": "E8_xMS7BZMoV",
        "outputId": "0219888c-b343-47e0-9055-d58242878c53"
      },
      "execution_count": null,
      "outputs": [
        {
          "output_type": "execute_result",
          "data": {
            "text/plain": [
              "3"
            ]
          },
          "metadata": {},
          "execution_count": 20
        }
      ]
    },
    {
      "cell_type": "code",
      "source": [
        "def count_string(s,char):\n",
        "  final=s.count(char)\n",
        "  return final\n",
        "\n",
        "\n",
        "count_string(\"devops tool \", \"v\")"
      ],
      "metadata": {
        "colab": {
          "base_uri": "https://localhost:8080/"
        },
        "id": "gCSmHrl2ZTdo",
        "outputId": "f4726aad-da33-45e2-d9ad-b0ee7eae78c5"
      },
      "execution_count": null,
      "outputs": [
        {
          "output_type": "execute_result",
          "data": {
            "text/plain": [
              "1"
            ]
          },
          "metadata": {},
          "execution_count": 28
        }
      ]
    },
    {
      "cell_type": "code",
      "source": [
        "def st(string,char):\n",
        "   final=string.count(char)\n",
        "   return final\n",
        "\n",
        "\n",
        "st(\"shivansh\",\"sh\")"
      ],
      "metadata": {
        "colab": {
          "base_uri": "https://localhost:8080/"
        },
        "id": "u8zJvaUvZvBe",
        "outputId": "8720a3d0-a63c-48f1-9651-5f6de50f9c03"
      },
      "execution_count": null,
      "outputs": [
        {
          "output_type": "execute_result",
          "data": {
            "text/plain": [
              "2"
            ]
          },
          "metadata": {},
          "execution_count": 36
        }
      ]
    },
    {
      "cell_type": "code",
      "source": [],
      "metadata": {
        "id": "XZ0OcEQtcRjV"
      },
      "execution_count": null,
      "outputs": []
    },
    {
      "cell_type": "markdown",
      "source": [
        "# **How** do you check if a string contains only digits?\n"
      ],
      "metadata": {
        "id": "MPMR8P1hcSNZ"
      }
    },
    {
      "cell_type": "code",
      "source": [
        "\"12looll\".isdigit()"
      ],
      "metadata": {
        "colab": {
          "base_uri": "https://localhost:8080/"
        },
        "id": "aV0fAdeJcTGH",
        "outputId": "50a1d3ed-c7b1-4125-f019-171cca6f2d50"
      },
      "execution_count": null,
      "outputs": [
        {
          "output_type": "execute_result",
          "data": {
            "text/plain": [
              "False"
            ]
          },
          "metadata": {},
          "execution_count": 37
        }
      ]
    },
    {
      "cell_type": "code",
      "source": [
        "\"12345\".isdigit()"
      ],
      "metadata": {
        "colab": {
          "base_uri": "https://localhost:8080/"
        },
        "id": "DZLsQhOfchm6",
        "outputId": "660ddc6c-5fcc-419d-f15c-5f5cdd98378f"
      },
      "execution_count": null,
      "outputs": [
        {
          "output_type": "execute_result",
          "data": {
            "text/plain": [
              "True"
            ]
          },
          "metadata": {},
          "execution_count": 39
        }
      ]
    },
    {
      "cell_type": "code",
      "source": [
        "def num_string(sn):\n",
        "  final = sn.isdigit()\n",
        "  return final\n",
        "\n",
        "num_string(\"123\")"
      ],
      "metadata": {
        "colab": {
          "base_uri": "https://localhost:8080/"
        },
        "id": "d33CXzZPcjMz",
        "outputId": "03cc93c5-abfe-454e-99f6-dc2109419066"
      },
      "execution_count": null,
      "outputs": [
        {
          "output_type": "execute_result",
          "data": {
            "text/plain": [
              "True"
            ]
          },
          "metadata": {},
          "execution_count": 45
        }
      ]
    },
    {
      "cell_type": "code",
      "source": [
        "num_string(\"123lll\")"
      ],
      "metadata": {
        "colab": {
          "base_uri": "https://localhost:8080/"
        },
        "id": "I5FS0Vtldvct",
        "outputId": "1b0d8218-b601-4ed9-e4be-923815eedb56"
      },
      "execution_count": null,
      "outputs": [
        {
          "output_type": "execute_result",
          "data": {
            "text/plain": [
              "False"
            ]
          },
          "metadata": {},
          "execution_count": 46
        }
      ]
    },
    {
      "cell_type": "code",
      "source": [
        "def sh(s):\n",
        "  return s.isdigit()\n",
        "\n",
        "sh(\"122\")"
      ],
      "metadata": {
        "colab": {
          "base_uri": "https://localhost:8080/"
        },
        "id": "cFLK_B1GeMTa",
        "outputId": "97e29868-126b-4443-f270-20d5368d8c76"
      },
      "execution_count": null,
      "outputs": [
        {
          "output_type": "execute_result",
          "data": {
            "text/plain": [
              "True"
            ]
          },
          "metadata": {},
          "execution_count": 48
        }
      ]
    },
    {
      "cell_type": "code",
      "source": [],
      "metadata": {
        "id": "4cRvq8iXgu6n"
      },
      "execution_count": null,
      "outputs": []
    },
    {
      "cell_type": "markdown",
      "source": [
        "# How do you split a string by whitespace and join it with a hyphen?"
      ],
      "metadata": {
        "id": "NDTP4BqshALt"
      }
    },
    {
      "cell_type": "code",
      "source": [
        "a= \"Hi my name is shivansh\"\n",
        "\n",
        "\"-\".join(a.split())"
      ],
      "metadata": {
        "colab": {
          "base_uri": "https://localhost:8080/",
          "height": 39
        },
        "id": "T58G1ZhvhBSW",
        "outputId": "7fcef6a5-af2c-47c6-b214-ae8aa5ce0bcc"
      },
      "execution_count": null,
      "outputs": [
        {
          "output_type": "execute_result",
          "data": {
            "text/plain": [
              "'Hi-my-name-is-shivansh'"
            ],
            "application/vnd.google.colaboratory.intrinsic+json": {
              "type": "string"
            }
          },
          "metadata": {},
          "execution_count": 50
        }
      ]
    },
    {
      "cell_type": "code",
      "source": [
        "from os.path import split\n",
        "def ss(string):\n",
        "  final = \"-\".join(string.split())\n",
        "  return final\n",
        "\n",
        "ss(\"shivansh name is shivam\")"
      ],
      "metadata": {
        "colab": {
          "base_uri": "https://localhost:8080/",
          "height": 39
        },
        "id": "qsTT3Zwo7ErP",
        "outputId": "e7cab8a6-4471-4e94-8203-77566a94df16"
      },
      "execution_count": null,
      "outputs": [
        {
          "output_type": "execute_result",
          "data": {
            "text/plain": [
              "'shivansh-name-is-shivam'"
            ],
            "application/vnd.google.colaboratory.intrinsic+json": {
              "type": "string"
            }
          },
          "metadata": {},
          "execution_count": 52
        }
      ]
    },
    {
      "cell_type": "code",
      "source": [],
      "metadata": {
        "id": "J2ZDH3ZB8Xnj"
      },
      "execution_count": null,
      "outputs": []
    },
    {
      "cell_type": "markdown",
      "source": [
        "# How do you remove all vowels from a given string?"
      ],
      "metadata": {
        "id": "3Y_oLkLi9gjJ"
      }
    },
    {
      "cell_type": "code",
      "source": [
        "a=\"Devops Engineer\"\n",
        "\n",
        "result=\"\"\n",
        "for i in a:\n",
        "  if i.lower() not in \"aeiou\":\n",
        "    result=result+i\n",
        "\n",
        "print(result)"
      ],
      "metadata": {
        "colab": {
          "base_uri": "https://localhost:8080/"
        },
        "id": "tKnC8BaU9hKC",
        "outputId": "5e4a418d-334f-40c7-8391-63ff423ddc58"
      },
      "execution_count": null,
      "outputs": [
        {
          "output_type": "stream",
          "name": "stdout",
          "text": [
            "Dvps ngnr\n"
          ]
        }
      ]
    },
    {
      "cell_type": "code",
      "source": [
        "def vow(st):\n",
        "  result=\"\"\n",
        "  for i in st:\n",
        "    if i.lower() not in \"aeiou\":\n",
        "      result=result+i\n",
        "  return result\n",
        "\n",
        "vow(\"loisyt\")\n"
      ],
      "metadata": {
        "colab": {
          "base_uri": "https://localhost:8080/",
          "height": 39
        },
        "id": "oqItu44v-Too",
        "outputId": "c7eff490-81b8-484f-92aa-6cdca47addd2"
      },
      "execution_count": null,
      "outputs": [
        {
          "output_type": "execute_result",
          "data": {
            "text/plain": [
              "'lsyt'"
            ],
            "application/vnd.google.colaboratory.intrinsic+json": {
              "type": "string"
            }
          },
          "metadata": {},
          "execution_count": 65
        }
      ]
    },
    {
      "cell_type": "code",
      "source": [
        "a=\"lopiquetylopslo\"\n",
        "\n",
        "result=\"\"\n",
        "for i in a:\n",
        "  if i.lower() not in \"aeiou\":\n",
        "    result=result+i\n",
        "print(result)\n"
      ],
      "metadata": {
        "colab": {
          "base_uri": "https://localhost:8080/"
        },
        "id": "34vck2Nn_YDA",
        "outputId": "a6c9220a-3a12-4dc2-8d5b-318b9500b860"
      },
      "execution_count": null,
      "outputs": [
        {
          "output_type": "stream",
          "name": "stdout",
          "text": [
            "lpqtylpsl\n"
          ]
        }
      ]
    },
    {
      "cell_type": "code",
      "source": [],
      "metadata": {
        "id": "sVjyz457B4Wg"
      },
      "execution_count": null,
      "outputs": []
    },
    {
      "cell_type": "markdown",
      "source": [
        "# How do you extract numbers from a given string?"
      ],
      "metadata": {
        "id": "h-bopz-LEHop"
      }
    },
    {
      "cell_type": "code",
      "source": [
        "import re\n",
        "\n",
        "a=\"12 lo ne 89 po to so\"\n",
        "\n",
        "re.findall(r\"\\d+\",a)"
      ],
      "metadata": {
        "colab": {
          "base_uri": "https://localhost:8080/"
        },
        "id": "ix10KDmEEKqV",
        "outputId": "a34b4236-12a5-461a-e5d6-141dcd4e8cdd"
      },
      "execution_count": null,
      "outputs": [
        {
          "output_type": "execute_result",
          "data": {
            "text/plain": [
              "['12', '89']"
            ]
          },
          "metadata": {},
          "execution_count": 69
        }
      ]
    },
    {
      "cell_type": "code",
      "source": [
        "import re\n",
        "def exnum(s):\n",
        "  return re.findall(r\"\\d+\",s)"
      ],
      "metadata": {
        "id": "lsOBltxrEfn7"
      },
      "execution_count": null,
      "outputs": []
    },
    {
      "cell_type": "code",
      "source": [
        "exnum(\"lopoloh9078667\")"
      ],
      "metadata": {
        "colab": {
          "base_uri": "https://localhost:8080/"
        },
        "id": "Vf9grVpCFnsT",
        "outputId": "9cf9df78-8c6e-4932-8ec3-5a670cf337cd"
      },
      "execution_count": null,
      "outputs": [
        {
          "output_type": "execute_result",
          "data": {
            "text/plain": [
              "['9078667']"
            ]
          },
          "metadata": {},
          "execution_count": 72
        }
      ]
    },
    {
      "cell_type": "code",
      "source": [
        "exnum(\"lopoloh\\n9078667\")"
      ],
      "metadata": {
        "colab": {
          "base_uri": "https://localhost:8080/"
        },
        "id": "0S8HgZI0FrkF",
        "outputId": "e7cb3529-3bf4-4918-e3db-80b5ad5b608b"
      },
      "execution_count": null,
      "outputs": [
        {
          "output_type": "execute_result",
          "data": {
            "text/plain": [
              "['9078667']"
            ]
          },
          "metadata": {},
          "execution_count": 73
        }
      ]
    },
    {
      "cell_type": "code",
      "source": [],
      "metadata": {
        "id": "hOGDnmV0FvFx"
      },
      "execution_count": null,
      "outputs": []
    },
    {
      "cell_type": "markdown",
      "source": [
        "# How do you swap the case of each letter in a string?\n"
      ],
      "metadata": {
        "id": "QaWJ85HiGUj8"
      }
    },
    {
      "cell_type": "code",
      "source": [
        "a=\"DevOps\"\n",
        "\n",
        "a.swapcase()"
      ],
      "metadata": {
        "colab": {
          "base_uri": "https://localhost:8080/",
          "height": 39
        },
        "id": "cKA1H0JMGXGo",
        "outputId": "0f4258bb-c45f-4308-ccca-84f68743bdb8"
      },
      "execution_count": null,
      "outputs": [
        {
          "output_type": "execute_result",
          "data": {
            "text/plain": [
              "'dEVoPS'"
            ],
            "application/vnd.google.colaboratory.intrinsic+json": {
              "type": "string"
            }
          },
          "metadata": {},
          "execution_count": 76
        }
      ]
    },
    {
      "cell_type": "code",
      "source": [
        "def swap(s):\n",
        "  return s.swapcase()\n",
        "\n",
        "\n",
        "swap(\"Shivansh Kumar\")"
      ],
      "metadata": {
        "colab": {
          "base_uri": "https://localhost:8080/",
          "height": 39
        },
        "id": "N3q3lobiGoI5",
        "outputId": "f21b0427-31cb-4e6a-84f3-5dd1295a9c62"
      },
      "execution_count": null,
      "outputs": [
        {
          "output_type": "execute_result",
          "data": {
            "text/plain": [
              "'sHIVANSH kUMAR'"
            ],
            "application/vnd.google.colaboratory.intrinsic+json": {
              "type": "string"
            }
          },
          "metadata": {},
          "execution_count": 77
        }
      ]
    },
    {
      "cell_type": "code",
      "source": [],
      "metadata": {
        "id": "EaPK3WMfHTLf"
      },
      "execution_count": null,
      "outputs": []
    },
    {
      "cell_type": "markdown",
      "source": [
        "# How do you replace all spaces in a string with underscores?"
      ],
      "metadata": {
        "id": "jGDe9_PcHbVb"
      }
    },
    {
      "cell_type": "code",
      "source": [
        "a= \"Hi My name is shivansh\"\n",
        "\n",
        "\"_\".join(a.split())"
      ],
      "metadata": {
        "colab": {
          "base_uri": "https://localhost:8080/",
          "height": 39
        },
        "id": "XDYV08bfHaku",
        "outputId": "bc721542-8083-4fa0-dcd6-f6732026fc76"
      },
      "execution_count": null,
      "outputs": [
        {
          "output_type": "execute_result",
          "data": {
            "text/plain": [
              "'Hi_My_name_is_shivansh'"
            ],
            "application/vnd.google.colaboratory.intrinsic+json": {
              "type": "string"
            }
          },
          "metadata": {},
          "execution_count": 79
        }
      ]
    },
    {
      "cell_type": "code",
      "source": [
        "a.split()"
      ],
      "metadata": {
        "colab": {
          "base_uri": "https://localhost:8080/"
        },
        "id": "7RZK1ze8Hjr1",
        "outputId": "2ebe7e33-4ad3-4332-fcd2-d78500fedc0d"
      },
      "execution_count": null,
      "outputs": [
        {
          "output_type": "execute_result",
          "data": {
            "text/plain": [
              "['Hi', 'My', 'name', 'is', 'shivansh']"
            ]
          },
          "metadata": {},
          "execution_count": 80
        }
      ]
    },
    {
      "cell_type": "code",
      "source": [
        "a=\"Hi you are done with string menupulation question\"\n",
        "\n",
        "a"
      ],
      "metadata": {
        "colab": {
          "base_uri": "https://localhost:8080/",
          "height": 39
        },
        "id": "Z4h0qfQuIMZv",
        "outputId": "6a315877-1f1e-4d00-c05d-e6356f5f276a"
      },
      "execution_count": null,
      "outputs": [
        {
          "output_type": "execute_result",
          "data": {
            "text/plain": [
              "'Hi you are done with string menupulation question'"
            ],
            "application/vnd.google.colaboratory.intrinsic+json": {
              "type": "string"
            }
          },
          "metadata": {},
          "execution_count": 81
        }
      ]
    },
    {
      "cell_type": "code",
      "source": [
        "a.split()"
      ],
      "metadata": {
        "colab": {
          "base_uri": "https://localhost:8080/"
        },
        "id": "KHg-ppkoJ0j-",
        "outputId": "7767cc24-8398-48b7-ad66-ffda5bb2493c"
      },
      "execution_count": null,
      "outputs": [
        {
          "output_type": "execute_result",
          "data": {
            "text/plain": [
              "['Hi', 'you', 'are', 'done', 'with', 'string', 'menupulation', 'question']"
            ]
          },
          "metadata": {},
          "execution_count": 82
        }
      ]
    },
    {
      "cell_type": "code",
      "source": [
        "for i in a:\n",
        "  print(i, end=\" \")"
      ],
      "metadata": {
        "colab": {
          "base_uri": "https://localhost:8080/"
        },
        "id": "FCgydTHMJ14w",
        "outputId": "3a8899c6-ec9d-4688-ca96-c6179d121f36"
      },
      "execution_count": null,
      "outputs": [
        {
          "output_type": "stream",
          "name": "stdout",
          "text": [
            "H i   y o u   a r e   d o n e   w i t h   s t r i n g   m e n u p u l a t i o n   q u e s t i o n "
          ]
        }
      ]
    },
    {
      "cell_type": "markdown",
      "source": [
        "# How do you find the longest word in a string?\n",
        "\n"
      ],
      "metadata": {
        "id": "BXWlD3whLsVQ"
      }
    },
    {
      "cell_type": "code",
      "source": [
        "a=\"DevOps is a combination of development and operation\"\n",
        "\n",
        "max(a.split(),key=len)"
      ],
      "metadata": {
        "colab": {
          "base_uri": "https://localhost:8080/",
          "height": 39
        },
        "id": "Ky-ByGboLtT0",
        "outputId": "e26dd61c-2232-483e-8b9f-4de8fc76bb38"
      },
      "execution_count": null,
      "outputs": [
        {
          "output_type": "execute_result",
          "data": {
            "text/plain": [
              "'combination'"
            ],
            "application/vnd.google.colaboratory.intrinsic+json": {
              "type": "string"
            }
          },
          "metadata": {},
          "execution_count": 87
        }
      ]
    },
    {
      "cell_type": "code",
      "source": [
        "def logest(s):\n",
        "  return max(s.split(),key=len)\n",
        "\n",
        "logest(\"DevOps is a combination of development and operation\")"
      ],
      "metadata": {
        "colab": {
          "base_uri": "https://localhost:8080/",
          "height": 39
        },
        "id": "AXvBp9A8L-pS",
        "outputId": "5b8f990a-5e44-4570-a962-9929647159ad"
      },
      "execution_count": null,
      "outputs": [
        {
          "output_type": "execute_result",
          "data": {
            "text/plain": [
              "'combination'"
            ],
            "application/vnd.google.colaboratory.intrinsic+json": {
              "type": "string"
            }
          },
          "metadata": {},
          "execution_count": 88
        }
      ]
    },
    {
      "cell_type": "code",
      "source": [],
      "metadata": {
        "id": "L4rTq6jEMnBy"
      },
      "execution_count": null,
      "outputs": []
    },
    {
      "cell_type": "markdown",
      "source": [
        "## Advanced String Manipulation"
      ],
      "metadata": {
        "id": "fkiHADEwmYMt"
      }
    },
    {
      "cell_type": "markdown",
      "source": [
        "# Write a function to remove duplicate characters from a string while preserving order."
      ],
      "metadata": {
        "id": "TjG2vdfjmcvC"
      }
    },
    {
      "cell_type": "code",
      "source": [
        "a=\"DevOpsTools\""
      ],
      "metadata": {
        "id": "uqXgelIbmdgx"
      },
      "execution_count": null,
      "outputs": []
    },
    {
      "cell_type": "code",
      "source": [
        "set(a.split())"
      ],
      "metadata": {
        "id": "yK0LOGllmiwk",
        "colab": {
          "base_uri": "https://localhost:8080/"
        },
        "outputId": "c28d34d1-fb6a-4e5a-dd3c-d16158f19abc"
      },
      "execution_count": null,
      "outputs": [
        {
          "output_type": "execute_result",
          "data": {
            "text/plain": [
              "{'DevOpsTools'}"
            ]
          },
          "metadata": {},
          "execution_count": 8
        }
      ]
    },
    {
      "cell_type": "code",
      "source": [
        "\"\".join(set(a))"
      ],
      "metadata": {
        "colab": {
          "base_uri": "https://localhost:8080/",
          "height": 39
        },
        "id": "4OyBJZcBqfAC",
        "outputId": "252dc46d-4537-4873-dfe4-5692f2fe8196"
      },
      "execution_count": null,
      "outputs": [
        {
          "output_type": "execute_result",
          "data": {
            "text/plain": [
              "'plDvoTsOe'"
            ],
            "application/vnd.google.colaboratory.intrinsic+json": {
              "type": "string"
            }
          },
          "metadata": {},
          "execution_count": 9
        }
      ]
    },
    {
      "cell_type": "code",
      "source": [
        "a = \"DevOpsTools\"\n",
        "print(\"\".join(set(a)))  # order in not preserving order."
      ],
      "metadata": {
        "colab": {
          "base_uri": "https://localhost:8080/"
        },
        "id": "afi5o2WTqj8h",
        "outputId": "8b0c9528-81dd-4686-e5fa-57065d2b6523"
      },
      "execution_count": null,
      "outputs": [
        {
          "output_type": "stream",
          "name": "stdout",
          "text": [
            "plDvoTsOe\n"
          ]
        }
      ]
    },
    {
      "cell_type": "code",
      "source": [
        "a = \"DevOpsTools\"\n",
        "b=a.lower()\n",
        "\"\".join(dict.fromkeys(b))"
      ],
      "metadata": {
        "colab": {
          "base_uri": "https://localhost:8080/",
          "height": 39
        },
        "id": "Xpx1W10_qrqv",
        "outputId": "5c0afaa0-fd9f-4fd2-9b93-17eb3c1c3bce"
      },
      "execution_count": null,
      "outputs": [
        {
          "output_type": "execute_result",
          "data": {
            "text/plain": [
              "'devopstl'"
            ],
            "application/vnd.google.colaboratory.intrinsic+json": {
              "type": "string"
            }
          },
          "metadata": {},
          "execution_count": 15
        }
      ]
    },
    {
      "cell_type": "code",
      "source": [
        "def dup(s):\n",
        "   return \"\".join(dict.fromkeys(s.lower()))\n",
        "\n",
        "\n",
        "dup(\"DevOpsTools\")"
      ],
      "metadata": {
        "colab": {
          "base_uri": "https://localhost:8080/",
          "height": 39
        },
        "id": "BBUAPyZbriAz",
        "outputId": "79b4a2df-8720-4129-973d-2d7bcd225407"
      },
      "execution_count": null,
      "outputs": [
        {
          "output_type": "execute_result",
          "data": {
            "text/plain": [
              "'devopstl'"
            ],
            "application/vnd.google.colaboratory.intrinsic+json": {
              "type": "string"
            }
          },
          "metadata": {},
          "execution_count": 18
        }
      ]
    },
    {
      "cell_type": "code",
      "source": [],
      "metadata": {
        "id": "KkwWIObTtU3u"
      },
      "execution_count": null,
      "outputs": []
    },
    {
      "cell_type": "markdown",
      "source": [
        "# How do you find the first non-repeating character in a string?\n",
        "\n"
      ],
      "metadata": {
        "id": "KnVPexobtVz1"
      }
    },
    {
      "cell_type": "code",
      "source": [
        "from collections import  Counter\n",
        "\n",
        "a=\"shivansh\""
      ],
      "metadata": {
        "id": "5Dfr06mGtW30"
      },
      "execution_count": null,
      "outputs": []
    },
    {
      "cell_type": "code",
      "source": [
        "Counter(a)"
      ],
      "metadata": {
        "colab": {
          "base_uri": "https://localhost:8080/"
        },
        "id": "doDv6KHmvVPG",
        "outputId": "806edc87-4252-4c27-cfa0-49494898a2ae"
      },
      "execution_count": null,
      "outputs": [
        {
          "output_type": "execute_result",
          "data": {
            "text/plain": [
              "Counter({'s': 2, 'h': 2, 'i': 1, 'v': 1, 'a': 1, 'n': 1})"
            ]
          },
          "metadata": {},
          "execution_count": 42
        }
      ]
    },
    {
      "cell_type": "code",
      "source": [
        "from collections import Counter\n",
        "\n",
        "def occ(s):\n",
        "  char_count = Counter(s)\n",
        "  for i in s:\n",
        "    if char_count[i] ==1:\n",
        "      return i\n",
        "  return None"
      ],
      "metadata": {
        "id": "nZlKZma6ulLL"
      },
      "execution_count": null,
      "outputs": []
    },
    {
      "cell_type": "code",
      "source": [
        "occ(\"shivansh\")"
      ],
      "metadata": {
        "colab": {
          "base_uri": "https://localhost:8080/",
          "height": 39
        },
        "id": "afm8OjLqwMiU",
        "outputId": "afcd9038-1fb0-409a-d5c0-6e51c218fb5b"
      },
      "execution_count": null,
      "outputs": [
        {
          "output_type": "execute_result",
          "data": {
            "text/plain": [
              "'i'"
            ],
            "application/vnd.google.colaboratory.intrinsic+json": {
              "type": "string"
            }
          },
          "metadata": {},
          "execution_count": 53
        }
      ]
    },
    {
      "cell_type": "code",
      "source": [
        "occ(\"sivanh\")"
      ],
      "metadata": {
        "colab": {
          "base_uri": "https://localhost:8080/",
          "height": 39
        },
        "id": "06KcvaqpwNh5",
        "outputId": "2b5076e8-e23a-4ea5-f57d-e0a59f2b124e"
      },
      "execution_count": null,
      "outputs": [
        {
          "output_type": "execute_result",
          "data": {
            "text/plain": [
              "'s'"
            ],
            "application/vnd.google.colaboratory.intrinsic+json": {
              "type": "string"
            }
          },
          "metadata": {},
          "execution_count": 54
        }
      ]
    },
    {
      "cell_type": "code",
      "source": [
        "occ(\"ssiivvaannhh\")"
      ],
      "metadata": {
        "id": "2jGsEJdbwX-L"
      },
      "execution_count": null,
      "outputs": []
    },
    {
      "cell_type": "code",
      "source": [
        "from collections import Counter"
      ],
      "metadata": {
        "id": "1xTTHvO9wdXf"
      },
      "execution_count": null,
      "outputs": []
    },
    {
      "cell_type": "code",
      "source": [
        "a=\"shivam\""
      ],
      "metadata": {
        "id": "WrJGnZtUw0QC"
      },
      "execution_count": null,
      "outputs": []
    },
    {
      "cell_type": "code",
      "source": [
        "Counter(a)"
      ],
      "metadata": {
        "colab": {
          "base_uri": "https://localhost:8080/"
        },
        "id": "orH_hJoJw1yt",
        "outputId": "e751e46e-9197-4cc9-d506-35392b5e529b"
      },
      "execution_count": null,
      "outputs": [
        {
          "output_type": "execute_result",
          "data": {
            "text/plain": [
              "Counter({'s': 1, 'h': 1, 'i': 1, 'v': 1, 'a': 1, 'm': 1})"
            ]
          },
          "metadata": {},
          "execution_count": 58
        }
      ]
    },
    {
      "cell_type": "code",
      "source": [
        "def occs(s):\n",
        "  char_count=Counter(s)\n",
        "  for i in s:\n",
        "    if char_count[i] == 1:\n",
        "      return i\n",
        "  return None\n"
      ],
      "metadata": {
        "id": "UwoKqGAKw4bg"
      },
      "execution_count": null,
      "outputs": []
    },
    {
      "cell_type": "code",
      "source": [
        "occs(\"shivam\")"
      ],
      "metadata": {
        "colab": {
          "base_uri": "https://localhost:8080/",
          "height": 39
        },
        "id": "CK5v2SFoxJXt",
        "outputId": "fa4bbbb9-3ab2-49d7-d97d-7f2004dc4839"
      },
      "execution_count": null,
      "outputs": [
        {
          "output_type": "execute_result",
          "data": {
            "text/plain": [
              "'s'"
            ],
            "application/vnd.google.colaboratory.intrinsic+json": {
              "type": "string"
            }
          },
          "metadata": {},
          "execution_count": 65
        }
      ]
    },
    {
      "cell_type": "markdown",
      "source": [
        "# How do you check if two strings are anagrams?\n"
      ],
      "metadata": {
        "id": "IiMcdDv80ECL"
      }
    },
    {
      "cell_type": "code",
      "source": [
        "a=\"listen\"\n",
        "b=\"slient\"\n",
        "\n",
        "sorted(a) == sorted(b)"
      ],
      "metadata": {
        "colab": {
          "base_uri": "https://localhost:8080/"
        },
        "id": "LUVyEpwc0Fgt",
        "outputId": "11d3e1a6-d574-43de-a152-7d9c0a8795c9"
      },
      "execution_count": null,
      "outputs": [
        {
          "output_type": "execute_result",
          "data": {
            "text/plain": [
              "True"
            ]
          },
          "metadata": {},
          "execution_count": 71
        }
      ]
    },
    {
      "cell_type": "code",
      "source": [
        "def anagram(a,b):\n",
        "  sorted(a)==sorted(b)\n",
        "  return \"angram\""
      ],
      "metadata": {
        "id": "7Wc1nItH0Rfx"
      },
      "execution_count": null,
      "outputs": []
    },
    {
      "cell_type": "code",
      "source": [
        "anagram(\"listen\",\"silent\")"
      ],
      "metadata": {
        "colab": {
          "base_uri": "https://localhost:8080/",
          "height": 39
        },
        "id": "3dNnETar0YyS",
        "outputId": "c4edd755-8d6d-47bd-8c3c-dd38b8fc99cf"
      },
      "execution_count": null,
      "outputs": [
        {
          "output_type": "execute_result",
          "data": {
            "text/plain": [
              "'angram'"
            ],
            "application/vnd.google.colaboratory.intrinsic+json": {
              "type": "string"
            }
          },
          "metadata": {},
          "execution_count": 73
        }
      ]
    },
    {
      "cell_type": "code",
      "source": [
        "sorted(a)"
      ],
      "metadata": {
        "colab": {
          "base_uri": "https://localhost:8080/"
        },
        "id": "9KFYyAoD0hkC",
        "outputId": "3b45a34b-8353-4ae1-eb75-1fc42494c642"
      },
      "execution_count": null,
      "outputs": [
        {
          "output_type": "execute_result",
          "data": {
            "text/plain": [
              "['e', 'i', 'l', 'n', 's', 't']"
            ]
          },
          "metadata": {},
          "execution_count": 78
        }
      ]
    },
    {
      "cell_type": "code",
      "source": [
        "sorted(b)"
      ],
      "metadata": {
        "colab": {
          "base_uri": "https://localhost:8080/"
        },
        "id": "_2CgTelI03p6",
        "outputId": "0a324f6f-5077-4a01-b4c2-fe6a2ec9e088"
      },
      "execution_count": null,
      "outputs": [
        {
          "output_type": "execute_result",
          "data": {
            "text/plain": [
              "['e', 'i', 'l', 'n', 's', 't']"
            ]
          },
          "metadata": {},
          "execution_count": 79
        }
      ]
    },
    {
      "cell_type": "markdown",
      "source": [
        "# 💚\n",
        "# How do you format a log message with dynamic values using f-strings?\n",
        "\n",
        "log_level = \"ERROR\" </br>\n",
        "message = \"Disk space low\"  </br>\n",
        "timestamp = \"2025-03-01 12:00:00\"  </br>\n",
        "\n",
        "Output:  </br>\n",
        "\n",
        "[2025-03-01 12:00:00] ERROR: Disk space low\n"
      ],
      "metadata": {
        "id": "FDcBQwZT16Wi"
      }
    },
    {
      "cell_type": "code",
      "source": [
        "log_level = \"ERROR\"\n",
        "message = \"Disk space low\"\n",
        "timestamp = \"2025-03-01 12:00:00\"\n",
        "\n",
        "\n",
        "format_log=f\"[{timestamp}] {log_level}:  {message}\"\n",
        "\n"
      ],
      "metadata": {
        "id": "RaYVA-2817TN"
      },
      "execution_count": null,
      "outputs": []
    },
    {
      "cell_type": "code",
      "source": [
        "print(format_log)"
      ],
      "metadata": {
        "colab": {
          "base_uri": "https://localhost:8080/"
        },
        "id": "4feUK_eh2hhY",
        "outputId": "52978bfb-0948-47dc-abc7-3d0f8e071b07"
      },
      "execution_count": null,
      "outputs": [
        {
          "output_type": "stream",
          "name": "stdout",
          "text": [
            "[2025-03-01 12:00:00] ERROR:  Disk space low\n"
          ]
        }
      ]
    },
    {
      "cell_type": "code",
      "source": [
        "for_st= f\"[{timestamp}] {log_level} : {message}\""
      ],
      "metadata": {
        "id": "EPom0X8B2jeN"
      },
      "execution_count": null,
      "outputs": []
    },
    {
      "cell_type": "code",
      "source": [
        "print(for_st)"
      ],
      "metadata": {
        "colab": {
          "base_uri": "https://localhost:8080/"
        },
        "id": "7tGcT9kR3Vli",
        "outputId": "254dcff6-e065-433e-d3a0-097b4f71cf57"
      },
      "execution_count": null,
      "outputs": [
        {
          "output_type": "stream",
          "name": "stdout",
          "text": [
            "[2025-03-01 12:00:00] ERROR : Disk space low\n"
          ]
        }
      ]
    },
    {
      "cell_type": "markdown",
      "source": [
        "# How do you parse a log file and extract error messages using regex?\n",
        "\n",
        "### Example: Extract all lines that start with \"ERROR\" from a log file.\n",
        "\n",
        "\n",
        "\n",
        "\n",
        "### INFO Server started successfully </br>\n",
        "### ERROR Disk space low </br>\n",
        "### WARNING High memory usage </br>\n",
        "### ERROR Connection timeout </br>\n",
        "### INFO Request processed </br>"
      ],
      "metadata": {
        "id": "B0i17Icb5vYS"
      }
    },
    {
      "cell_type": "code",
      "source": [
        "import re\n",
        "\n",
        "\n",
        "log_data = \"\"\"\n",
        "INFO Server started successfully\n",
        "ERROR Disk space low\n",
        "WARNING High memory usage\n",
        "ERROR Connection timeout\n",
        "INFO Request processed\n",
        "\"\"\""
      ],
      "metadata": {
        "id": "5jCFJsdZ6DTm"
      },
      "execution_count": null,
      "outputs": []
    },
    {
      "cell_type": "code",
      "source": [
        "error= re.findall(r\"ERROR.*\",log_data, re.MULTILINE)"
      ],
      "metadata": {
        "id": "vuAvM8Fj71C-"
      },
      "execution_count": null,
      "outputs": []
    },
    {
      "cell_type": "code",
      "source": [
        "for i in error:\n",
        "  print(i)"
      ],
      "metadata": {
        "colab": {
          "base_uri": "https://localhost:8080/"
        },
        "id": "hTCmnRbZ8cvg",
        "outputId": "ad0d40d9-5252-4e81-8fb2-2adf4bf8d034"
      },
      "execution_count": null,
      "outputs": [
        {
          "output_type": "stream",
          "name": "stdout",
          "text": [
            "ERROR Disk space low\n",
            "ERROR Connection timeout\n"
          ]
        }
      ]
    },
    {
      "cell_type": "markdown",
      "source": [
        "✅\n",
        "\n",
        "# [2025-03-01 12:00:00] ERROR Disk space low </br>\n",
        "# [2025-03-01 12:05:00] INFO Server running </br>\n",
        "# [2025-03-01 12:10:00] ERROR Connection lost </br>"
      ],
      "metadata": {
        "id": "UXdBWAAD-_Jd"
      }
    },
    {
      "cell_type": "code",
      "source": [
        "log_data_tm= \"\"\"[2025-03-01 12:00:00] ERROR Disk space low\n",
        "[2025-03-01 12:05:00] INFO Server running\n",
        "[2025-03-01 12:10:00] ERROR Connection lost\n",
        "\"\"\""
      ],
      "metadata": {
        "id": "YXh8edt-_HnA"
      },
      "execution_count": null,
      "outputs": []
    },
    {
      "cell_type": "code",
      "source": [
        "log_data_tm.split(\"\\n\")"
      ],
      "metadata": {
        "colab": {
          "base_uri": "https://localhost:8080/"
        },
        "id": "37gTZv3nA_fN",
        "outputId": "51e41b3b-fc72-406f-ebb3-bef4f6cfb74b"
      },
      "execution_count": null,
      "outputs": [
        {
          "output_type": "execute_result",
          "data": {
            "text/plain": [
              "['[2025-03-01 12:00:00] ERROR Disk space low',\n",
              " '[2025-03-01 12:05:00] INFO Server running',\n",
              " '[2025-03-01 12:10:00] ERROR Connection lost',\n",
              " '']"
            ]
          },
          "metadata": {},
          "execution_count": 125
        }
      ]
    },
    {
      "cell_type": "code",
      "source": [
        "for i in log_data_tm.split(\"\\n\"):\n",
        "  if re.search(r\"ERROR\",i):\n",
        "    print(i)"
      ],
      "metadata": {
        "colab": {
          "base_uri": "https://localhost:8080/"
        },
        "id": "Z18nC92W_SZk",
        "outputId": "ee5df7b0-5c73-460d-af7a-682d747a2f3c"
      },
      "execution_count": null,
      "outputs": [
        {
          "output_type": "stream",
          "name": "stdout",
          "text": [
            "[2025-03-01 12:00:00] ERROR Disk space low\n",
            "[2025-03-01 12:10:00] ERROR Connection lost\n"
          ]
        }
      ]
    },
    {
      "cell_type": "code",
      "source": [
        "for i in log_data.split(\"\\n\"):\n",
        "  if re.search(r\"ERROR\",i):\n",
        "    print(i)"
      ],
      "metadata": {
        "colab": {
          "base_uri": "https://localhost:8080/"
        },
        "id": "E2y83BWK_ztB",
        "outputId": "be3038f2-424d-4043-f33c-e04b98b9c445"
      },
      "execution_count": null,
      "outputs": [
        {
          "output_type": "stream",
          "name": "stdout",
          "text": [
            "ERROR Disk space low\n",
            "ERROR Connection timeout\n"
          ]
        }
      ]
    },
    {
      "cell_type": "code",
      "source": [
        "log_data_tm= \"\"\"[2025-03-01 12:00:00] ERROR Disk space low\n",
        "[2025-03-01 12:05:00] INFO Server running\n",
        "[2025-03-01 12:10:00] ERROR Connection lost\n",
        "\"\"\""
      ],
      "metadata": {
        "id": "XaZGlo38ASm5"
      },
      "execution_count": null,
      "outputs": []
    },
    {
      "cell_type": "code",
      "source": [
        "for i in log_data_tm.split(\"\\n\"):\n",
        "  if re.search(r'ERROR.*',i):\n",
        "    print(i)"
      ],
      "metadata": {
        "colab": {
          "base_uri": "https://localhost:8080/"
        },
        "id": "hmTxEWwQAlJe",
        "outputId": "8dbf85ab-4958-45c3-fbca-d4a5aa32bc19"
      },
      "execution_count": null,
      "outputs": [
        {
          "output_type": "stream",
          "name": "stdout",
          "text": [
            "[2025-03-01 12:00:00] ERROR Disk space low\n",
            "[2025-03-01 12:10:00] ERROR Connection lost\n"
          ]
        }
      ]
    },
    {
      "cell_type": "markdown",
      "source": [
        "# [2024-04-23 10:15:34] 192.168.1.100 \"GET /page.html HTTP/1.1\" 200 1234 </br>\n",
        "# [2024-04-23 10:16:21] 192.168.1.101 \"POST /submit.php HTTP/1.1\" 404 4321  </br>\n",
        "# [2024-04-23 10:17:45] 192.168.1.102 \"GET /index.html HTTP/1.1\" 200 5678  </br>\n",
        "# [2024-04-23 10:18:02] 192.168.1.103 \"GET /about.html HTTP/1.1\" 200 7890  </br>\n",
        "# [2024-04-23 10:19:15] 192.168.1.104 \"POST /contact.php HTTP/1.1\" 403 9876  </br>\n",
        "# [2024-04-23 10:20:30] 192.168.1.105 \"GET /faq.html HTTP/1.1\" 200 6543  </br>\n",
        "# [2024-04-23 10:21:34] 192.168.1.106 \"GET /page.html HTTP/1.1\" 502 1230  </br>"
      ],
      "metadata": {
        "id": "MvoSiGllCK-X"
      }
    },
    {
      "cell_type": "code",
      "source": [
        "log_req= \"\"\"[2024-04-23 10:15:34] 192.168.1.100 \"GET /page.html HTTP/1.1\" 200 1234\n",
        "[2024-04-23 10:16:21] 192.168.1.101 \"POST /submit.php HTTP/1.1\" 404 4321\n",
        "[2024-04-23 10:17:45] 192.168.1.102 \"GET /index.html HTTP/1.1\" 200 5678\n",
        "[2024-04-23 10:18:02] 192.168.1.103 \"GET /about.html HTTP/1.1\" 200 7890\n",
        "[2024-04-23 10:19:15] 192.168.1.104 \"POST /contact.php HTTP/1.1\" 403 9876\n",
        "[2024-04-23 10:20:30] 192.168.1.105 \"GET /faq.html HTTP/1.1\" 200 6543\n",
        "[2024-04-23 10:21:34] 192.168.1.106 \"GET /page.html HTTP/1.1\" 502 1230\n",
        "\"\"\""
      ],
      "metadata": {
        "id": "d_AvZBwlBuK1"
      },
      "execution_count": null,
      "outputs": []
    },
    {
      "cell_type": "code",
      "source": [
        "log_req.split(\"\\n\")"
      ],
      "metadata": {
        "colab": {
          "base_uri": "https://localhost:8080/"
        },
        "id": "mhUjC2ykCbIY",
        "outputId": "196d5a3f-d168-47a3-cd31-9c14d5e7fe7f"
      },
      "execution_count": null,
      "outputs": [
        {
          "output_type": "execute_result",
          "data": {
            "text/plain": [
              "['[2024-04-23 10:15:34] 192.168.1.100 \"GET /page.html HTTP/1.1\" 200 1234',\n",
              " '[2024-04-23 10:16:21] 192.168.1.101 \"POST /submit.php HTTP/1.1\" 404 4321',\n",
              " '[2024-04-23 10:17:45] 192.168.1.102 \"GET /index.html HTTP/1.1\" 200 5678',\n",
              " '[2024-04-23 10:18:02] 192.168.1.103 \"GET /about.html HTTP/1.1\" 200 7890',\n",
              " '[2024-04-23 10:19:15] 192.168.1.104 \"POST /contact.php HTTP/1.1\" 403 9876',\n",
              " '[2024-04-23 10:20:30] 192.168.1.105 \"GET /faq.html HTTP/1.1\" 200 6543',\n",
              " '[2024-04-23 10:21:34] 192.168.1.106 \"GET /page.html HTTP/1.1\" 502 1230',\n",
              " '']"
            ]
          },
          "metadata": {},
          "execution_count": 2
        }
      ]
    },
    {
      "cell_type": "code",
      "source": [
        "import re\n",
        "for i in log_req.split(\"\\n\"):\n",
        "  if re.search(r\"GET.*\",i):\n",
        "    print(i)"
      ],
      "metadata": {
        "colab": {
          "base_uri": "https://localhost:8080/"
        },
        "id": "gsTDtTbICexb",
        "outputId": "ffecbeeb-3ba1-4ac9-e0fb-c7a932064e1e"
      },
      "execution_count": null,
      "outputs": [
        {
          "output_type": "stream",
          "name": "stdout",
          "text": [
            "[2024-04-23 10:15:34] 192.168.1.100 \"GET /page.html HTTP/1.1\" 200 1234\n",
            "[2024-04-23 10:17:45] 192.168.1.102 \"GET /index.html HTTP/1.1\" 200 5678\n",
            "[2024-04-23 10:18:02] 192.168.1.103 \"GET /about.html HTTP/1.1\" 200 7890\n",
            "[2024-04-23 10:20:30] 192.168.1.105 \"GET /faq.html HTTP/1.1\" 200 6543\n",
            "[2024-04-23 10:21:34] 192.168.1.106 \"GET /page.html HTTP/1.1\" 502 1230\n"
          ]
        }
      ]
    },
    {
      "cell_type": "code",
      "source": [
        "for i in log_req.split(\"\\n\"):\n",
        "  if re.search(r\"GET.*\",i):\n",
        "    if re.search(r\"200\",i):\n",
        "      print(i)"
      ],
      "metadata": {
        "colab": {
          "base_uri": "https://localhost:8080/"
        },
        "id": "vDIgj6DHCszO",
        "outputId": "903846cd-5af0-4358-9843-8a59429a132e"
      },
      "execution_count": null,
      "outputs": [
        {
          "output_type": "stream",
          "name": "stdout",
          "text": [
            "[2024-04-23 10:15:34] 192.168.1.100 \"GET /page.html HTTP/1.1\" 200 1234\n",
            "[2024-04-23 10:17:45] 192.168.1.102 \"GET /index.html HTTP/1.1\" 200 5678\n",
            "[2024-04-23 10:18:02] 192.168.1.103 \"GET /about.html HTTP/1.1\" 200 7890\n",
            "[2024-04-23 10:20:30] 192.168.1.105 \"GET /faq.html HTTP/1.1\" 200 6543\n"
          ]
        }
      ]
    },
    {
      "cell_type": "code",
      "source": [
        "response_size=[]\n",
        "for i in log_req.split(\"\\n\"):\n",
        "  if re.search(r\"GET.*\",i):\n",
        "    match = re.search(r'\\d+$', i)\n",
        "    if match:\n",
        "      response_size.append(int(match.group()))\n",
        "print(response_size)"
      ],
      "metadata": {
        "colab": {
          "base_uri": "https://localhost:8080/"
        },
        "id": "I_WLEcuFEIoW",
        "outputId": "846ec401-99ce-4ff6-a003-a159f2db4021"
      },
      "execution_count": null,
      "outputs": [
        {
          "output_type": "stream",
          "name": "stdout",
          "text": [
            "[1234, 5678, 7890, 6543, 1230]\n"
          ]
        }
      ]
    },
    {
      "cell_type": "code",
      "source": [
        "log_data = \"\"\"\n",
        "[2025-03-01 12:00:00] ERROR Disk space low\n",
        "[2025-03-01 12:05:00] INFO Server running\n",
        "[2025-03-01 12:10:00] error Connection lost\n",
        "\"\"\""
      ],
      "metadata": {
        "id": "-GcY_fx2F7Ia"
      },
      "execution_count": null,
      "outputs": []
    },
    {
      "cell_type": "code",
      "source": [
        "log_data.split(\"\\n\")"
      ],
      "metadata": {
        "colab": {
          "base_uri": "https://localhost:8080/"
        },
        "id": "9j0v4tHQF8EB",
        "outputId": "2c695b6d-cee0-49d1-df45-f5e5f7098bc5"
      },
      "execution_count": null,
      "outputs": [
        {
          "output_type": "execute_result",
          "data": {
            "text/plain": [
              "['',\n",
              " '[2025-03-01 12:00:00] ERROR Disk space low',\n",
              " '[2025-03-01 12:05:00] INFO Server running',\n",
              " '[2025-03-01 12:10:00] error Connection lost',\n",
              " '']"
            ]
          },
          "metadata": {},
          "execution_count": 8
        }
      ]
    },
    {
      "cell_type": "code",
      "source": [
        "for i in log_data.split(\"\\n\"):\n",
        "  if re.search(r\"ERROR.*\",i,re.IGNORECASE):\n",
        "    print(i)"
      ],
      "metadata": {
        "colab": {
          "base_uri": "https://localhost:8080/"
        },
        "id": "IZaYR7xNGJhB",
        "outputId": "f9441902-a16a-4329-fa3b-1d29c7acc5d2"
      },
      "execution_count": null,
      "outputs": [
        {
          "output_type": "stream",
          "name": "stdout",
          "text": [
            "[2025-03-01 12:00:00] ERROR Disk space low\n",
            "[2025-03-01 12:10:00] error Connection lost\n"
          ]
        }
      ]
    },
    {
      "cell_type": "code",
      "source": [
        "log_data = \"\"\"\n",
        "[2025-03-01 12:00:00] ERROR Disk space low\n",
        "[2025-03-01 12:05:00] INFO Server running\n",
        "[2025-03-01 12:10:00] ERROR Connection lost\n",
        "\"\"\""
      ],
      "metadata": {
        "id": "SA1BTvDQGUzt"
      },
      "execution_count": null,
      "outputs": []
    },
    {
      "cell_type": "code",
      "source": [
        "for i in log_data.split(\"\\n\"):\n",
        "  match= re.search(r\"\\[(.*)\\]\",i)\n",
        "  if match:\n",
        "     print(match.group(1))"
      ],
      "metadata": {
        "colab": {
          "base_uri": "https://localhost:8080/"
        },
        "id": "no8DIbcJHxzF",
        "outputId": "b8c3ca01-9045-4199-ea15-e15e1a0b10ba"
      },
      "execution_count": null,
      "outputs": [
        {
          "output_type": "stream",
          "name": "stdout",
          "text": [
            "2025-03-01 12:00:00\n",
            "2025-03-01 12:05:00\n",
            "2025-03-01 12:10:00\n"
          ]
        }
      ]
    },
    {
      "cell_type": "code",
      "source": [
        "for i in log_data.split(\"\\n\"):\n",
        "  match = re.search(r\"\\[(.*?)\\]\",i)\n",
        "  if match:\n",
        "    print(match.group(1))"
      ],
      "metadata": {
        "id": "zTdFKd24H-Kf",
        "colab": {
          "base_uri": "https://localhost:8080/"
        },
        "outputId": "e657dd7c-0486-4401-ee3a-850ee6cc75e2"
      },
      "execution_count": null,
      "outputs": [
        {
          "output_type": "stream",
          "name": "stdout",
          "text": [
            "2025-03-01 12:00:00\n",
            "2025-03-01 12:05:00\n",
            "2025-03-01 12:10:00\n"
          ]
        }
      ]
    },
    {
      "cell_type": "code",
      "source": [
        "re.search(r\"\\[(.*?)\\]\",i)"
      ],
      "metadata": {
        "id": "dF0GFDUaBvMU"
      },
      "execution_count": null,
      "outputs": []
    },
    {
      "cell_type": "markdown",
      "source": [
        "# Question: How do you count how many times \"ERROR\" appears in the log file?"
      ],
      "metadata": {
        "id": "eHNnnX9PC4w5"
      }
    },
    {
      "cell_type": "code",
      "source": [
        "log_data = \"\"\"\n",
        "[2025-03-01 12:00:00] ERROR Disk space low\n",
        "[2025-03-01 12:05:00] INFO Server running\n",
        "[2025-03-01 12:10:00] ERROR Connection lost\n",
        "\"\"\""
      ],
      "metadata": {
        "id": "l6Tlncx5C6lI"
      },
      "execution_count": null,
      "outputs": []
    },
    {
      "cell_type": "code",
      "source": [
        "log_data.split(\"\\n\")"
      ],
      "metadata": {
        "colab": {
          "base_uri": "https://localhost:8080/"
        },
        "id": "tVISqWo6C9YL",
        "outputId": "d1a82557-3918-4f0f-a093-bd04f57a639b"
      },
      "execution_count": null,
      "outputs": [
        {
          "output_type": "execute_result",
          "data": {
            "text/plain": [
              "['',\n",
              " '[2025-03-01 12:00:00] ERROR Disk space low',\n",
              " '[2025-03-01 12:05:00] INFO Server running',\n",
              " '[2025-03-01 12:10:00] ERROR Connection lost',\n",
              " '']"
            ]
          },
          "metadata": {},
          "execution_count": 16
        }
      ]
    },
    {
      "cell_type": "code",
      "source": [
        "log_data.count(\"ERROR\")"
      ],
      "metadata": {
        "colab": {
          "base_uri": "https://localhost:8080/"
        },
        "id": "wPd2c0cqC__d",
        "outputId": "335197d5-63b1-49bd-bd28-77529ec95239"
      },
      "execution_count": null,
      "outputs": [
        {
          "output_type": "execute_result",
          "data": {
            "text/plain": [
              "2"
            ]
          },
          "metadata": {},
          "execution_count": 18
        }
      ]
    },
    {
      "cell_type": "code",
      "source": [
        "data = log_data.count(\"INFO\")"
      ],
      "metadata": {
        "id": "oXQQH9UYDJmc"
      },
      "execution_count": null,
      "outputs": []
    },
    {
      "cell_type": "code",
      "source": [
        "print(\"count is info msg: \",data)"
      ],
      "metadata": {
        "colab": {
          "base_uri": "https://localhost:8080/"
        },
        "id": "ay7daw5wDcLI",
        "outputId": "7607901d-25d5-48c1-df50-ef14fa38a41c"
      },
      "execution_count": null,
      "outputs": [
        {
          "output_type": "stream",
          "name": "stdout",
          "text": [
            "count is info msg:  1\n"
          ]
        }
      ]
    },
    {
      "cell_type": "markdown",
      "source": [
        "# Extract Only ERROR Messages"
      ],
      "metadata": {
        "id": "NjCTc-PHD0Cy"
      }
    },
    {
      "cell_type": "code",
      "source": [
        "log_data = \"\"\"\n",
        "[2025-03-01 12:00:00] ERROR Disk space low\n",
        "[2025-03-01 12:05:00] INFO Server running\n",
        "[2025-03-01 12:10:00] ERROR Connection lost\n",
        "\"\"\""
      ],
      "metadata": {
        "id": "Ci6NsHL6D027"
      },
      "execution_count": null,
      "outputs": []
    },
    {
      "cell_type": "code",
      "source": [
        "log_data.split(\"\\n\")"
      ],
      "metadata": {
        "colab": {
          "base_uri": "https://localhost:8080/"
        },
        "id": "8pvZ9mrLD3G6",
        "outputId": "0ce45e9c-11a8-4aa9-dfa9-db36065dc2f5"
      },
      "execution_count": null,
      "outputs": [
        {
          "output_type": "execute_result",
          "data": {
            "text/plain": [
              "['',\n",
              " '[2025-03-01 12:00:00] ERROR Disk space low',\n",
              " '[2025-03-01 12:05:00] INFO Server running',\n",
              " '[2025-03-01 12:10:00] ERROR Connection lost',\n",
              " '']"
            ]
          },
          "metadata": {},
          "execution_count": 24
        }
      ]
    },
    {
      "cell_type": "code",
      "source": [
        "for i in log_data.split(\"\\n\"):\n",
        "  if re.search(r\"ERROR.*\",i,re.IGNORECASE):\n",
        "    print(i)"
      ],
      "metadata": {
        "colab": {
          "base_uri": "https://localhost:8080/"
        },
        "id": "MSs15COpD6L1",
        "outputId": "578d85f4-0414-48ce-f4de-a7728cae14d9"
      },
      "execution_count": null,
      "outputs": [
        {
          "output_type": "stream",
          "name": "stdout",
          "text": [
            "[2025-03-01 12:00:00] ERROR Disk space low\n",
            "[2025-03-01 12:10:00] ERROR Connection lost\n"
          ]
        }
      ]
    },
    {
      "cell_type": "markdown",
      "source": [
        "# 4. Extract the Error Messages (Without Timestamp & \"ERROR\")"
      ],
      "metadata": {
        "id": "lb_eWVCfENQ1"
      }
    },
    {
      "cell_type": "code",
      "source": [
        "for i in log_req.split(\"\\n\"):\n",
        "  if re.search(r\"GET.*\",i):\n",
        "    if re.search(r\"200\",i):\n",
        "      print(i)"
      ],
      "metadata": {
        "colab": {
          "base_uri": "https://localhost:8080/"
        },
        "id": "OUDaZyEhIL9-",
        "outputId": "31145a3f-1357-49c9-a608-9c814e740e87"
      },
      "execution_count": null,
      "outputs": [
        {
          "output_type": "stream",
          "name": "stdout",
          "text": [
            "[2024-04-23 10:15:34] 192.168.1.100 \"GET /page.html HTTP/1.1\" 200 1234\n",
            "[2024-04-23 10:17:45] 192.168.1.102 \"GET /index.html HTTP/1.1\" 200 5678\n",
            "[2024-04-23 10:18:02] 192.168.1.103 \"GET /about.html HTTP/1.1\" 200 7890\n",
            "[2024-04-23 10:20:30] 192.168.1.105 \"GET /faq.html HTTP/1.1\" 200 6543\n"
          ]
        }
      ]
    },
    {
      "cell_type": "code",
      "source": [
        "log_data = \"\"\"\n",
        "[2025-03-01 12:00:00] ERROR Disk space low\n",
        "[2025-03-01 12:05:00] INFO Server running\n",
        "[2025-03-01 12:10:00] ERROR Connection lost\n",
        "\"\"\""
      ],
      "metadata": {
        "id": "ivFF-iGmEODp"
      },
      "execution_count": null,
      "outputs": []
    },
    {
      "cell_type": "code",
      "source": [
        "log_data.split(\"\\n\")"
      ],
      "metadata": {
        "colab": {
          "base_uri": "https://localhost:8080/"
        },
        "id": "Nyds783IEP3-",
        "outputId": "0564a96b-f37b-45ea-e5da-7dea2488d776"
      },
      "execution_count": null,
      "outputs": [
        {
          "output_type": "execute_result",
          "data": {
            "text/plain": [
              "['',\n",
              " '[2025-03-01 12:00:00] ERROR Disk space low',\n",
              " '[2025-03-01 12:05:00] INFO Server running',\n",
              " '[2025-03-01 12:10:00] ERROR Connection lost',\n",
              " '']"
            ]
          },
          "metadata": {},
          "execution_count": 67
        }
      ]
    },
    {
      "cell_type": "code",
      "source": [
        "for i in log_data.split(\"\\n\"):\n",
        "  if re.search(r\"ERROR\",i):\n",
        "    print(i)"
      ],
      "metadata": {
        "colab": {
          "base_uri": "https://localhost:8080/"
        },
        "id": "b2lwM-gXEZY3",
        "outputId": "a1e27796-54ba-4ef0-a9f5-9f6e2fef6eb2"
      },
      "execution_count": null,
      "outputs": [
        {
          "output_type": "stream",
          "name": "stdout",
          "text": [
            "[2025-03-01 12:00:00] ERROR Disk space low\n",
            "[2025-03-01 12:10:00] ERROR Connection lost\n"
          ]
        }
      ]
    },
    {
      "cell_type": "markdown",
      "source": [
        "🔹 When to Use match = re.search(...) </br>\n",
        "Use when you need to extract a specific part of the text. </br>\n",
        "✅ Example (Extracting error message): </br>\n",
        "\n"
      ],
      "metadata": {
        "id": "mpjZDf4uN4Xt"
      }
    },
    {
      "cell_type": "code",
      "source": [
        "for i in log_data.split((\"\\n\")):\n",
        "  match = re.search(r\"ERROR\\s(.*)\",i)\n",
        "  if match:\n",
        "    print(match.group(1))"
      ],
      "metadata": {
        "colab": {
          "base_uri": "https://localhost:8080/"
        },
        "id": "CTmstAX3Kmv8",
        "outputId": "437bfcc1-fc31-484a-e969-46e008b59a0f"
      },
      "execution_count": null,
      "outputs": [
        {
          "output_type": "stream",
          "name": "stdout",
          "text": [
            "Disk space low\n",
            "Connection lost\n"
          ]
        }
      ]
    },
    {
      "cell_type": "code",
      "source": [
        "log_req= \"\"\"[2024-04-23 10:15:34] 192.168.1.100 \"GET /page.html HTTP/1.1\" 200 1234\n",
        "[2024-04-23 10:16:21] 192.168.1.101 \"POST /submit.php HTTP/1.1\" 404 4321\n",
        "[2024-04-23 10:17:45] 192.168.1.102 \"GET /index.html HTTP/1.1\" 200 5678\n",
        "[2024-04-23 10:18:02] 192.168.1.103 \"GET /about.html HTTP/1.1\" 200 7890\n",
        "[2024-04-23 10:19:15] 192.168.1.104 \"POST /contact.php HTTP/1.1\" 403 9876\n",
        "[2024-04-23 10:20:30] 192.168.1.105 \"GET /faq.html HTTP/1.1\" 200 6543\n",
        "[2024-04-23 10:21:34] 192.168.1.106 \"GET /page.html HTTP/1.1\" 502 1230\n",
        "\"\"\""
      ],
      "metadata": {
        "id": "RTrVCer_McDh"
      },
      "execution_count": null,
      "outputs": []
    },
    {
      "cell_type": "code",
      "source": [
        "for i in log_req.split(\"\\n\"):\n",
        "  if re.search(r\"GET.*\\s200.*\\s\",i):\n",
        "    print(i)"
      ],
      "metadata": {
        "colab": {
          "base_uri": "https://localhost:8080/"
        },
        "id": "V6DImTuZMcW7",
        "outputId": "9fdbcf52-99bb-4e66-a873-2b99d3e91a34"
      },
      "execution_count": null,
      "outputs": [
        {
          "output_type": "stream",
          "name": "stdout",
          "text": [
            "[2024-04-23 10:15:34] 192.168.1.100 \"GET /page.html HTTP/1.1\" 200 1234\n",
            "[2024-04-23 10:17:45] 192.168.1.102 \"GET /index.html HTTP/1.1\" 200 5678\n",
            "[2024-04-23 10:18:02] 192.168.1.103 \"GET /about.html HTTP/1.1\" 200 7890\n",
            "[2024-04-23 10:20:30] 192.168.1.105 \"GET /faq.html HTTP/1.1\" 200 6543\n"
          ]
        }
      ]
    },
    {
      "cell_type": "markdown",
      "source": [
        "# 5. Check if Log Contains a Specific Error"
      ],
      "metadata": {
        "id": "bKRj9mo7Obv4"
      }
    },
    {
      "cell_type": "code",
      "source": [
        "log_data = \"\"\"\n",
        "[2025-03-01 12:00:00] ERROR Disk space low\n",
        "[2025-03-01 12:05:00] INFO Server running\n",
        "[2025-03-01 12:10:00] ERROR Connection lost\n",
        "\"\"\""
      ],
      "metadata": {
        "id": "JxDd0npvOdVZ"
      },
      "execution_count": null,
      "outputs": []
    },
    {
      "cell_type": "code",
      "source": [
        "if \"Connection lost\" in log_data :\n",
        "  print(\"Check with infra team log contain 'Connection lost' \")"
      ],
      "metadata": {
        "colab": {
          "base_uri": "https://localhost:8080/"
        },
        "id": "Li7LJaABOopQ",
        "outputId": "94612614-0b8e-441d-d8f3-43fac9c36f20"
      },
      "execution_count": null,
      "outputs": [
        {
          "output_type": "stream",
          "name": "stdout",
          "text": [
            "Check with infra team log contain 'Connection lost' \n"
          ]
        }
      ]
    },
    {
      "cell_type": "markdown",
      "source": [
        "# 6. Replace ERROR with CRITICAL in Log Data"
      ],
      "metadata": {
        "id": "xgDdEVitQptK"
      }
    },
    {
      "cell_type": "code",
      "source": [
        "log_data = \"\"\"\n",
        "[2025-03-01 12:00:00] ERROR Disk space low\n",
        "[2025-03-01 12:05:00] INFO Server running\n",
        "[2025-03-01 12:10:00] ERROR Connection lost\n",
        "\"\"\""
      ],
      "metadata": {
        "id": "uh7mW-U5RMks"
      },
      "execution_count": null,
      "outputs": []
    },
    {
      "cell_type": "code",
      "source": [
        "update_log = log_data.replace(\"ERROR\",\"CRITICAL\")\n",
        "\n",
        "print(update_log)"
      ],
      "metadata": {
        "colab": {
          "base_uri": "https://localhost:8080/"
        },
        "id": "mIxvGCcPROQd",
        "outputId": "55d4572a-d9eb-4edd-a634-232a7e1a8617"
      },
      "execution_count": null,
      "outputs": [
        {
          "output_type": "stream",
          "name": "stdout",
          "text": [
            "\n",
            "[2025-03-01 12:00:00] CRITICAL Disk space low\n",
            "[2025-03-01 12:05:00] INFO Server running\n",
            "[2025-03-01 12:10:00] CRITICAL Connection lost\n",
            "\n"
          ]
        }
      ]
    },
    {
      "cell_type": "code",
      "source": [
        "log_data=\"\"\"[2025-03-01 12:00:00] ERROR Disk space low\n",
        "[2025-03-01 12:05:00] INFO Server running\n",
        "[2025-03-01 12:10:00] ERROR Connection lost\"\"\""
      ],
      "metadata": {
        "id": "OPpG1gf41i5m"
      },
      "execution_count": null,
      "outputs": []
    },
    {
      "cell_type": "code",
      "source": [
        "for i in log_data.split(\"\\n\"):\n",
        "  match = re.search(r\"ERROR\\s(.*)\",i)\n",
        "  if match:\n",
        "    print(match.group(1))"
      ],
      "metadata": {
        "colab": {
          "base_uri": "https://localhost:8080/"
        },
        "id": "tyJNKbKV1jlj",
        "outputId": "060c72e2-4562-42d5-8325-8274c240b851"
      },
      "execution_count": null,
      "outputs": [
        {
          "output_type": "stream",
          "name": "stdout",
          "text": [
            "Disk space low\n",
            "Connection lost\n"
          ]
        }
      ]
    },
    {
      "cell_type": "code",
      "source": [],
      "metadata": {
        "id": "ST6zNpCo12Kl"
      },
      "execution_count": null,
      "outputs": []
    },
    {
      "cell_type": "markdown",
      "source": [
        "# 8. Extract Only the IP Addresses from Access Logs"
      ],
      "metadata": {
        "id": "H15ExwK42Kms"
      }
    },
    {
      "cell_type": "code",
      "source": [
        "# [2024-04-23 10:15:34] 192.168.1.100 \"GET /page.html HTTP/1.1\" 200 1234\n",
        "# [2024-04-23 10:16:21] 192.168.1.101 \"POST /submit.php HTTP/1.1\" 404 4321\n"
      ],
      "metadata": {
        "id": "VBluSDii2LV5"
      },
      "execution_count": 97,
      "outputs": []
    },
    {
      "cell_type": "code",
      "source": [
        "log_data=\"\"\" [2024-04-23 10:15:34] 192.168.1.100 \"GET /page.html HTTP/1.1\" 200 1234\n",
        "[2024-04-23 10:16:21] 192.168.1.101 \"POST /submit.php HTTP/1.1\" 404 4321\n",
        "\"\"\""
      ],
      "metadata": {
        "id": "7eOV2IRl2M8h"
      },
      "execution_count": 98,
      "outputs": []
    },
    {
      "cell_type": "code",
      "source": [
        "for i in log_data.split(\"\\n\"):\n",
        "    match = re.search(r\"\\d+\\.\\d+\\.\\d+\\.\\d+\", i)\n",
        "    if match:\n",
        "        print(match.group())"
      ],
      "metadata": {
        "colab": {
          "base_uri": "https://localhost:8080/"
        },
        "id": "zf5zSEEJ3aD2",
        "outputId": "2bd44082-8280-4221-8920-adc5ff633700"
      },
      "execution_count": 100,
      "outputs": [
        {
          "output_type": "stream",
          "name": "stdout",
          "text": [
            "192.168.1.100\n",
            "192.168.1.101\n"
          ]
        }
      ]
    },
    {
      "cell_type": "code",
      "source": [
        "#shell script\n",
        "\n",
        "#!/bin/bash\n",
        "\n",
        "\n",
        "# log_data=$(cat << EOF\n",
        "\n",
        "# [2024-04-23 10:15:34] 192.168.1.100 \"GET /page.html HTTP/1.1\" 200 1234\n",
        "# [2024-04-23 10:16:21] 192.168.1.101 \"POST /submit.php HTTP/1.1\" 404 4321\n",
        "\n",
        "# EOF)\n",
        "\n",
        "\n",
        "# echo \"$log_data\" | awk '{print $3}'"
      ],
      "metadata": {
        "id": "rLLdGFGs4JnZ"
      },
      "execution_count": 101,
      "outputs": []
    },
    {
      "cell_type": "markdown",
      "source": [
        "# 9. Find the Most Recent ERROR Log"
      ],
      "metadata": {
        "id": "lQn-1GHU60Vf"
      }
    },
    {
      "cell_type": "code",
      "source": [
        "# sheel script\n",
        "\n",
        "\n",
        "# log_data=$(cat <<EOF\n",
        "# [2025-03-01 12:00:00] ERROR Disk space low\n",
        "# [2025-03-01 12:05:00] INFO Server running\n",
        "# [2025-03-01 12:10:00] ERROR Connection lost\n",
        "# EOF\n",
        "# )\n",
        "\n",
        "# echo \"$log_data\" | grep \"ERROR\" | tail -n 1"
      ],
      "metadata": {
        "id": "EKLj__ds61mJ"
      },
      "execution_count": 102,
      "outputs": []
    },
    {
      "cell_type": "markdown",
      "source": [
        "# Extract Only the HTTP Methods (GET, POST, etc.)"
      ],
      "metadata": {
        "id": "H-ZpbRDK9MyL"
      }
    },
    {
      "cell_type": "code",
      "source": [
        "log_req=\"\"\"[2024-04-23 10:15:34] 192.168.1.100 \\\"GET /page.html HTTP/1.1\\\" 200 1234\n",
        "[2024-04-23 10:16:21] 192.168.1.101 \\\"POST /submit.php HTTP/1.1\\\" 404 4321\n",
        "[2024-04-23 10:17:45] 192.168.1.102 \\\"GET /index.html HTTP/1.1\\\" 200 5678\n",
        "[2024-04-23 10:18:02] 192.168.1.103 \\\"GET /about.html HTTP/1.1\\\" 200 7890\n",
        "[2024-04-23 10:19:15] 192.168.1.104 \\\"POST /contact.php HTTP/1.1\\\" 403 9876\n",
        "[2024-04-23 10:20:30] 192.168.1.105 \\\"GET /faq.html HTTP/1.1\\\" 200 6543\n",
        "[2024-04-23 10:21:34] 192.168.1.106 \\\"GET /page.html HTTP/1.1\\\" 502 1230\"\"\"\n"
      ],
      "metadata": {
        "id": "CuNXJOGN7G56"
      },
      "execution_count": 104,
      "outputs": []
    },
    {
      "cell_type": "code",
      "source": [
        "for i in  log_req.split(\"\\n\"):\n",
        "  match = re.search(r\"(GET|POST)\",i)\n",
        "  if match:\n",
        "    print(match.group())"
      ],
      "metadata": {
        "colab": {
          "base_uri": "https://localhost:8080/"
        },
        "id": "WQaN7NEd7ySK",
        "outputId": "80fabc47-762b-4204-ca1d-7834336b745f"
      },
      "execution_count": 117,
      "outputs": [
        {
          "output_type": "stream",
          "name": "stdout",
          "text": [
            "GET\n",
            "POST\n",
            "GET\n",
            "GET\n",
            "POST\n",
            "GET\n",
            "GET\n"
          ]
        }
      ]
    },
    {
      "cell_type": "code",
      "source": [],
      "metadata": {
        "id": "dxhjeTn9-LOv"
      },
      "execution_count": 117,
      "outputs": []
    },
    {
      "cell_type": "markdown",
      "source": [
        "# *Extract Response Status Codes from Logs*"
      ],
      "metadata": {
        "id": "qhjEr29I-Plo"
      }
    },
    {
      "cell_type": "code",
      "source": [
        "log_req=\"\"\"[2024-04-23 10:15:34] 192.168.1.100 \\\"GET /page.html HTTP/1.1\\\" 200 1234\n",
        "[2024-04-23 10:16:21] 192.168.1.101 \\\"POST /submit.php HTTP/1.1\\\" 404 4321\n",
        "[2024-04-23 10:17:45] 192.168.1.102 \\\"GET /index.html HTTP/1.1\\\" 200 5678\n",
        "[2024-04-23 10:18:02] 192.168.1.103 \\\"GET /about.html HTTP/1.1\\\" 200 7890\n",
        "[2024-04-23 10:19:15] 192.168.1.104 \\\"POST /contact.php HTTP/1.1\\\" 403 9876\n",
        "[2024-04-23 10:20:30] 192.168.1.105 \\\"GET /faq.html HTTP/1.1\\\" 200 6543\n",
        "[2024-04-23 10:21:34] 192.168.1.106 \\\"GET /page.html HTTP/1.1\\\" 502 1230\"\"\""
      ],
      "metadata": {
        "id": "W0pFmzQq-QPa"
      },
      "execution_count": 126,
      "outputs": []
    },
    {
      "cell_type": "code",
      "source": [
        "# #!/bin/bash\n",
        "\n",
        "\n",
        "# log_req=$(cat <<EOF\n",
        "# [2024-04-23 10:15:34] 192.168.1.100 \"GET /page.html HTTP/1.1\" 200 1234\n",
        "# [2024-04-23 10:16:21] 192.168.1.101 \"POST /submit.php HTTP/1.1\" 404 4321\n",
        "# [2024-04-23 10:17:45] 192.168.1.102 \"GET /index.html HTTP/1.1\" 200 5678\n",
        "# [2024-04-23 10:18:02] 192.168.1.103 \"GET /about.html HTTP/1.1\" 200 7890\n",
        "# [2024-04-23 10:19:15] 192.168.1.104 \"POST /contact.php HTTP/1.1\" 403 9876\n",
        "# [2024-04-23 10:20:30] 192.168.1.105 \"GET /faq.html HTTP/1.1\" 200 6543\n",
        "# [2024-04-23 10:21:34] 192.168.1.106 \"GET /page.html HTTP/1.1\" 502 1230\n",
        "# EOF\n",
        "# )\n",
        "\n",
        "\n",
        "\n",
        "# echo \"$log_req\" | awk '{print$7}'"
      ],
      "metadata": {
        "id": "w1KrFqn8-ovh"
      },
      "execution_count": 120,
      "outputs": []
    },
    {
      "cell_type": "code",
      "source": [
        "\n",
        "log_req = \"\"\"[2024-04-23 10:15:34] 192.168.1.100 \"GET /page.html HTTP/1.1\" 200 1234\n",
        "[2024-04-23 10:16:21] 192.168.1.101 \"POST /submit.php HTTP/1.1\" 404 4321\n",
        "[2024-04-23 10:17:45] 192.168.1.102 \"GET /index.html HTTP/1.1\" 200 5678\n",
        "[2024-04-23 10:18:02] 192.168.1.103 \"GET /about.html HTTP/1.1\" 200 7890\n",
        "[2024-04-23 10:19:15] 192.168.1.104 \"POST /contact.php HTTP/1.1\" 403 9876\n",
        "[2024-04-23 10:20:30] 192.168.1.105 \"GET /faq.html HTTP/1.1\" 200 6543\n",
        "[2024-04-23 10:21:34] 192.168.1.106 \"GET /page.html HTTP/1.1\" 502 1230\"\"\"\n",
        "\n",
        "for i in log_req.split(\"\\n\"):\n",
        "    match = re.search(r'(200|301|302|403|404|500|502|503)', i)\n",
        "    if match:\n",
        "        print(match.group())  # Extracts only the status code\n"
      ],
      "metadata": {
        "colab": {
          "base_uri": "https://localhost:8080/"
        },
        "id": "3SU6JyRU-q0v",
        "outputId": "07c7f090-22c9-4c97-f980-96a75ef9812e"
      },
      "execution_count": 129,
      "outputs": [
        {
          "output_type": "stream",
          "name": "stdout",
          "text": [
            "200\n",
            "404\n",
            "200\n",
            "200\n",
            "403\n",
            "200\n",
            "502\n"
          ]
        }
      ]
    },
    {
      "cell_type": "markdown",
      "source": [
        "# Extract URLs from Logs"
      ],
      "metadata": {
        "id": "7gdLvXNg-9Uh"
      }
    },
    {
      "cell_type": "code",
      "source": [
        "# #!/bin/bash\n",
        "\n",
        "\n",
        "# log_req=$(cat <<EOF\n",
        "# [2024-04-23 10:15:34] 192.168.1.100 \"GET /page.html HTTP/1.1\" 200 1234\n",
        "# [2024-04-23 10:16:21] 192.168.1.101 \"POST /submit.php HTTP/1.1\" 404 4321\n",
        "# [2024-04-23 10:17:45] 192.168.1.102 \"GET /index.html HTTP/1.1\" 200 5678\n",
        "# [2024-04-23 10:18:02] 192.168.1.103 \"GET /about.html HTTP/1.1\" 200 7890\n",
        "# [2024-04-23 10:19:15] 192.168.1.104 \"POST /contact.php HTTP/1.1\" 403 9876\n",
        "# [2024-04-23 10:20:30] 192.168.1.105 \"GET /faq.html HTTP/1.1\" 200 6543\n",
        "# [2024-04-23 10:21:34] 192.168.1.106 \"GET /page.html HTTP/1.1\" 502 1230\n",
        "# EOF\n",
        "# )\n",
        "\n",
        "\n",
        "\n",
        "\n",
        "# echo \"$log_req\" | awk '{print$5}'"
      ],
      "metadata": {
        "id": "qiU4IbjQ--PC"
      },
      "execution_count": 121,
      "outputs": []
    },
    {
      "cell_type": "code",
      "source": [],
      "metadata": {
        "id": "isClmog1_HGd"
      },
      "execution_count": null,
      "outputs": []
    },
    {
      "cell_type": "markdown",
      "source": [
        "# Extract unique IP address"
      ],
      "metadata": {
        "id": "DvpBXyTMB6Ru"
      }
    },
    {
      "cell_type": "code",
      "source": [
        "# #!/bin/bash\n",
        "\n",
        "\n",
        "# log_req=$(cat <<EOF\n",
        "# [2024-04-23 10:15:34] 192.168.1.100 \"GET /page.html HTTP/1.1\" 200 1234\n",
        "# [2024-04-23 10:16:21] 192.168.1.101 \"POST /submit.php HTTP/1.1\" 404 4321\n",
        "# [2024-04-23 10:17:45] 192.168.1.101 \"GET /index.html HTTP/1.1\" 200 5678\n",
        "# [2024-04-23 10:18:02] 192.168.1.104 \"GET /about.html HTTP/1.1\" 200 7890\n",
        "# [2024-04-23 10:19:15] 192.168.1.104 \"POST /contact.php HTTP/1.1\" 403 9876\n",
        "# [2024-04-23 10:20:30] 192.168.1.105 \"GET /faq.html HTTP/1.1\" 200 6543\n",
        "# [2024-04-23 10:21:34] 192.168.1.106 \"GET /page.html HTTP/1.1\" 502 1230\n",
        "# EOF\n",
        "# )\n",
        "\n",
        "\n",
        "\n",
        "# echo \"$log_req\" | awk '{print$3}' | uniq"
      ],
      "metadata": {
        "id": "r_YoW3OQB-GF"
      },
      "execution_count": 130,
      "outputs": []
    },
    {
      "cell_type": "code",
      "source": [],
      "metadata": {
        "id": "6Z-30c2oCAv6"
      },
      "execution_count": null,
      "outputs": []
    }
  ]
}